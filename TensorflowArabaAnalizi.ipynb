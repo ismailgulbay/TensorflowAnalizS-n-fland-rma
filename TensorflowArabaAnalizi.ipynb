{
 "cells": [
  {
   "cell_type": "code",
   "execution_count": 1,
   "metadata": {},
   "outputs": [],
   "source": [
    "import pandas as pd\n",
    "import numpy as np\n",
    "import seaborn as sbn\n",
    "import matplotlib.pyplot as plt\n",
    "from sklearn.model_selection import train_test_split\n",
    "from sklearn.preprocessing import MinMaxScaler\n",
    "from tensorflow.keras.models import Sequential\n",
    "from tensorflow.keras.layers import Dense\n",
    "from sklearn.metrics import mean_squared_error, mean_absolute_error"
   ]
  },
  {
   "cell_type": "code",
   "execution_count": 3,
   "metadata": {},
   "outputs": [],
   "source": [
    "dataFrame = pd.read_excel(\"merc.xlsx\")"
   ]
  },
  {
   "cell_type": "code",
   "execution_count": 4,
   "metadata": {},
   "outputs": [
    {
     "data": {
      "text/html": [
       "<div>\n",
       "<style scoped>\n",
       "    .dataframe tbody tr th:only-of-type {\n",
       "        vertical-align: middle;\n",
       "    }\n",
       "\n",
       "    .dataframe tbody tr th {\n",
       "        vertical-align: top;\n",
       "    }\n",
       "\n",
       "    .dataframe thead th {\n",
       "        text-align: right;\n",
       "    }\n",
       "</style>\n",
       "<table border=\"1\" class=\"dataframe\">\n",
       "  <thead>\n",
       "    <tr style=\"text-align: right;\">\n",
       "      <th></th>\n",
       "      <th>year</th>\n",
       "      <th>price</th>\n",
       "      <th>transmission</th>\n",
       "      <th>mileage</th>\n",
       "      <th>tax</th>\n",
       "      <th>mpg</th>\n",
       "      <th>engineSize</th>\n",
       "    </tr>\n",
       "  </thead>\n",
       "  <tbody>\n",
       "    <tr>\n",
       "      <th>0</th>\n",
       "      <td>2005</td>\n",
       "      <td>5200</td>\n",
       "      <td>Automatic</td>\n",
       "      <td>63000</td>\n",
       "      <td>325</td>\n",
       "      <td>32.1</td>\n",
       "      <td>1.8</td>\n",
       "    </tr>\n",
       "    <tr>\n",
       "      <th>1</th>\n",
       "      <td>2017</td>\n",
       "      <td>34948</td>\n",
       "      <td>Automatic</td>\n",
       "      <td>27000</td>\n",
       "      <td>20</td>\n",
       "      <td>61.4</td>\n",
       "      <td>2.1</td>\n",
       "    </tr>\n",
       "    <tr>\n",
       "      <th>2</th>\n",
       "      <td>2016</td>\n",
       "      <td>49948</td>\n",
       "      <td>Automatic</td>\n",
       "      <td>6200</td>\n",
       "      <td>555</td>\n",
       "      <td>28.0</td>\n",
       "      <td>5.5</td>\n",
       "    </tr>\n",
       "    <tr>\n",
       "      <th>3</th>\n",
       "      <td>2016</td>\n",
       "      <td>61948</td>\n",
       "      <td>Automatic</td>\n",
       "      <td>16000</td>\n",
       "      <td>325</td>\n",
       "      <td>30.4</td>\n",
       "      <td>4.0</td>\n",
       "    </tr>\n",
       "    <tr>\n",
       "      <th>4</th>\n",
       "      <td>2016</td>\n",
       "      <td>73948</td>\n",
       "      <td>Automatic</td>\n",
       "      <td>4000</td>\n",
       "      <td>325</td>\n",
       "      <td>30.1</td>\n",
       "      <td>4.0</td>\n",
       "    </tr>\n",
       "  </tbody>\n",
       "</table>\n",
       "</div>"
      ],
      "text/plain": [
       "   year  price transmission  mileage  tax   mpg  engineSize\n",
       "0  2005   5200    Automatic    63000  325  32.1         1.8\n",
       "1  2017  34948    Automatic    27000   20  61.4         2.1\n",
       "2  2016  49948    Automatic     6200  555  28.0         5.5\n",
       "3  2016  61948    Automatic    16000  325  30.4         4.0\n",
       "4  2016  73948    Automatic     4000  325  30.1         4.0"
      ]
     },
     "execution_count": 4,
     "metadata": {},
     "output_type": "execute_result"
    }
   ],
   "source": [
    "dataFrame.head()"
   ]
  },
  {
   "cell_type": "code",
   "execution_count": 5,
   "metadata": {},
   "outputs": [
    {
     "data": {
      "text/plain": [
       "year            0\n",
       "price           0\n",
       "transmission    0\n",
       "mileage         0\n",
       "tax             0\n",
       "mpg             0\n",
       "engineSize      0\n",
       "dtype: int64"
      ]
     },
     "execution_count": 5,
     "metadata": {},
     "output_type": "execute_result"
    }
   ],
   "source": [
    "dataFrame.isnull().sum()"
   ]
  },
  {
   "cell_type": "code",
   "execution_count": 6,
   "metadata": {},
   "outputs": [
    {
     "name": "stderr",
     "output_type": "stream",
     "text": [
      "C:\\Users\\Melih\\anaconda3\\lib\\site-packages\\seaborn\\distributions.py:2551: FutureWarning: `distplot` is a deprecated function and will be removed in a future version. Please adapt your code to use either `displot` (a figure-level function with similar flexibility) or `histplot` (an axes-level function for histograms).\n",
      "  warnings.warn(msg, FutureWarning)\n"
     ]
    },
    {
     "data": {
      "text/plain": [
       "<AxesSubplot:xlabel='price', ylabel='Density'>"
      ]
     },
     "execution_count": 6,
     "metadata": {},
     "output_type": "execute_result"
    },
    {
     "data": {
      "image/png": "[encoded data removed]",
      "text/plain": [
       "<Figure size 1080x360 with 1 Axes>"
      ]
     },
     "metadata": {
      "needs_background": "light"
     },
     "output_type": "display_data"
    }
   ],
   "source": [
    "plt.figure(figsize = (15,5))\n",
    "sbn.distplot(dataFrame[\"price\"])"
   ]
  },
  {
   "cell_type": "code",
   "execution_count": 7,
   "metadata": {},
   "outputs": [
    {
     "name": "stderr",
     "output_type": "stream",
     "text": [
      "C:\\Users\\Melih\\anaconda3\\lib\\site-packages\\seaborn\\_decorators.py:36: FutureWarning: Pass the following variable as a keyword arg: x. From version 0.12, the only valid positional argument will be `data`, and passing other arguments without an explicit keyword will result in an error or misinterpretation.\n",
      "  warnings.warn(\n"
     ]
    },
    {
     "data": {
      "text/plain": [
       "<AxesSubplot:xlabel='year', ylabel='count'>"
      ]
     },
     "execution_count": 7,
     "metadata": {},
     "output_type": "execute_result"
    },
    {
     "data": {
      "image/png": "[encoded data removed]",
      "text/plain": [
       "<Figure size 720x360 with 1 Axes>"
      ]
     },
     "metadata": {
      "needs_background": "light"
     },
     "output_type": "display_data"
    }
   ],
   "source": [
    "plt.figure(figsize = (10,5))\n",
    "sbn.countplot(dataFrame[\"year\"])"
   ]
  },
  {
   "cell_type": "code",
   "execution_count": 8,
   "metadata": {},
   "outputs": [
    {
     "data": {
      "text/plain": [
       "mileage      -0.537214\n",
       "mpg          -0.438445\n",
       "tax           0.268717\n",
       "engineSize    0.516126\n",
       "year          0.520712\n",
       "price         1.000000\n",
       "Name: price, dtype: float64"
      ]
     },
     "execution_count": 8,
     "metadata": {},
     "output_type": "execute_result"
    }
   ],
   "source": [
    "dataFrame.corr()[\"price\"].sort_values()"
   ]
  },
  {
   "cell_type": "code",
   "execution_count": 9,
   "metadata": {},
   "outputs": [
    {
     "data": {
      "text/plain": [
       "<AxesSubplot:xlabel='mileage', ylabel='price'>"
      ]
     },
     "execution_count": 9,
     "metadata": {},
     "output_type": "execute_result"
    },
    {
     "data": {
      "image/png": "[encoded data removed]",
      "text/plain": [
       "<Figure size 720x360 with 1 Axes>"
      ]
     },
     "metadata": {
      "needs_background": "light"
     },
     "output_type": "display_data"
    }
   ],
   "source": [
    "plt.figure(figsize = (10,5))\n",
    "sbn.scatterplot(x=\"mileage\",y=\"price\",data= dataFrame)"
   ]
  },
  {
   "cell_type": "code",
   "execution_count": 10,
   "metadata": {},
   "outputs": [],
   "source": [
    "Df = dataFrame.sort_values(\"price\" , ascending = False).iloc[131:]"
   ]
  },
  {
   "cell_type": "code",
   "execution_count": 11,
   "metadata": {},
   "outputs": [
    {
     "name": "stderr",
     "output_type": "stream",
     "text": [
      "C:\\Users\\Melih\\anaconda3\\lib\\site-packages\\seaborn\\distributions.py:2551: FutureWarning: `distplot` is a deprecated function and will be removed in a future version. Please adapt your code to use either `displot` (a figure-level function with similar flexibility) or `histplot` (an axes-level function for histograms).\n",
      "  warnings.warn(msg, FutureWarning)\n"
     ]
    },
    {
     "data": {
      "text/plain": [
       "<AxesSubplot:xlabel='price', ylabel='Density'>"
      ]
     },
     "execution_count": 11,
     "metadata": {},
     "output_type": "execute_result"
    },
    {
     "data": {
      "image/png": "[encoded data removed]",
      "text/plain": [
       "<Figure size 1080x360 with 1 Axes>"
      ]
     },
     "metadata": {
      "needs_background": "light"
     },
     "output_type": "display_data"
    }
   ],
   "source": [
    "plt.figure(figsize=(15,5))\n",
    "sbn.distplot(Df[\"price\"])"
   ]
  },
  {
   "cell_type": "code",
   "execution_count": 12,
   "metadata": {},
   "outputs": [
    {
     "data": {
      "text/plain": [
       "year\n",
       "1970    24999.000000\n",
       "1997     9995.000000\n",
       "1998     8605.000000\n",
       "1999     5995.000000\n",
       "2000     5743.333333\n",
       "2001     4957.900000\n",
       "2002     5820.444444\n",
       "2003     4878.000000\n",
       "2004     4727.615385\n",
       "2005     4426.111111\n",
       "2006     4036.875000\n",
       "2007     5136.045455\n",
       "2008     6967.437500\n",
       "2009     6166.764706\n",
       "2010     8308.473684\n",
       "2011    12624.894737\n",
       "2012    10845.140351\n",
       "2013    11939.842466\n",
       "2014    14042.936864\n",
       "2015    16731.780020\n",
       "2016    19307.892948\n",
       "2017    21514.307854\n",
       "2018    25720.162918\n",
       "2019    31290.020865\n",
       "2020    35433.282337\n",
       "Name: price, dtype: float64"
      ]
     },
     "execution_count": 12,
     "metadata": {},
     "output_type": "execute_result"
    }
   ],
   "source": [
    "dataFrame.groupby(\"year\").mean()[\"price\"]"
   ]
  },
  {
   "cell_type": "code",
   "execution_count": 13,
   "metadata": {},
   "outputs": [
    {
     "data": {
      "text/plain": [
       "year\n",
       "1970    24999.000000\n",
       "1997     9995.000000\n",
       "1998     8605.000000\n",
       "1999     5995.000000\n",
       "2000     5743.333333\n",
       "2001     4957.900000\n",
       "2002     5820.444444\n",
       "2003     4878.000000\n",
       "2004     4727.615385\n",
       "2005     4426.111111\n",
       "2006     4036.875000\n",
       "2007     5136.045455\n",
       "2008     6967.437500\n",
       "2009     6166.764706\n",
       "2010     8308.473684\n",
       "2011     8913.459459\n",
       "2012    10845.140351\n",
       "2013    11939.842466\n",
       "2014    14042.936864\n",
       "2015    16647.822222\n",
       "2016    19223.558943\n",
       "2017    21356.280421\n",
       "2018    24800.844506\n",
       "2019    30289.524832\n",
       "2020    34234.794872\n",
       "Name: price, dtype: float64"
      ]
     },
     "execution_count": 13,
     "metadata": {},
     "output_type": "execute_result"
    }
   ],
   "source": [
    "Df.groupby(\"year\").mean()[\"price\"]"
   ]
  },
  {
   "cell_type": "code",
   "execution_count": 14,
   "metadata": {},
   "outputs": [],
   "source": [
    "dataFrame = Df"
   ]
  },
  {
   "cell_type": "code",
   "execution_count": 15,
   "metadata": {},
   "outputs": [],
   "source": [
    "dataFrame = dataFrame[dataFrame.year != 1970]"
   ]
  },
  {
   "cell_type": "code",
   "execution_count": 16,
   "metadata": {},
   "outputs": [
    {
     "data": {
      "text/plain": [
       "year\n",
       "1997     9995.000000\n",
       "1998     8605.000000\n",
       "1999     5995.000000\n",
       "2000     5743.333333\n",
       "2001     4957.900000\n",
       "2002     5820.444444\n",
       "2003     4878.000000\n",
       "2004     4727.615385\n",
       "2005     4426.111111\n",
       "2006     4036.875000\n",
       "2007     5136.045455\n",
       "2008     6967.437500\n",
       "2009     6166.764706\n",
       "2010     8308.473684\n",
       "2011     8913.459459\n",
       "2012    10845.140351\n",
       "2013    11939.842466\n",
       "2014    14042.936864\n",
       "2015    16647.822222\n",
       "2016    19223.558943\n",
       "2017    21356.280421\n",
       "2018    24800.844506\n",
       "2019    30289.524832\n",
       "2020    34234.794872\n",
       "Name: price, dtype: float64"
      ]
     },
     "execution_count": 16,
     "metadata": {},
     "output_type": "execute_result"
    }
   ],
   "source": [
    "dataFrame.groupby(\"year\").mean()[\"price\"]"
   ]
  },
  {
   "cell_type": "code",
   "execution_count": 17,
   "metadata": {},
   "outputs": [],
   "source": [
    "dataFrame = dataFrame.drop(\"transmission\",axis = 1)"
   ]
  },
  {
   "cell_type": "code",
   "execution_count": 18,
   "metadata": {},
   "outputs": [],
   "source": [
    "y = dataFrame[\"price\"].values\n",
    "x = dataFrame.drop(\"price\",axis = 1).values"
   ]
  },
  {
   "cell_type": "code",
   "execution_count": 19,
   "metadata": {},
   "outputs": [
    {
     "data": {
      "text/plain": [
       "array([65990, 65990, 65980, ...,  1490,  1350,   650], dtype=int64)"
      ]
     },
     "execution_count": 19,
     "metadata": {},
     "output_type": "execute_result"
    }
   ],
   "source": [
    "y"
   ]
  },
  {
   "cell_type": "code",
   "execution_count": 20,
   "metadata": {},
   "outputs": [],
   "source": [
    "x_train,x_test,y_train,y_test = train_test_split(x,y,test_size = 0.3,random_state = 10)"
   ]
  },
  {
   "cell_type": "code",
   "execution_count": 21,
   "metadata": {},
   "outputs": [],
   "source": [
    "scaler = MinMaxScaler()"
   ]
  },
  {
   "cell_type": "code",
   "execution_count": 22,
   "metadata": {},
   "outputs": [],
   "source": [
    "x_train = scaler.fit_transform(x_train)\n",
    "x_test = scaler.fit_transform(x_test)"
   ]
  },
  {
   "cell_type": "code",
   "execution_count": 23,
   "metadata": {},
   "outputs": [],
   "source": [
    "model = Sequential()\n",
    "\n",
    "model.add(Dense(12,activation = \"relu\"))\n",
    "model.add(Dense(12,activation = \"relu\"))\n",
    "model.add(Dense(12,activation = \"relu\"))\n",
    "model.add(Dense(12,activation = \"relu\"))\n",
    "\n",
    "model.add(Dense(1))\n",
    "model.compile(optimizer = \"adam\", loss = \"mse\")"
   ]
  },
  {
   "cell_type": "code",
   "execution_count": 24,
   "metadata": {},
   "outputs": [
    {
     "name": "stdout",
     "output_type": "stream",
     "text": [
      "Epoch 1/300\n",
      "37/37 [==============================] - 1s 8ms/step - loss: 672141312.0000 - val_loss: 688096128.0000\n",
      "Epoch 2/300\n",
      "37/37 [==============================] - 0s 3ms/step - loss: 672110080.0000 - val_loss: 688042176.0000\n",
      "Epoch 3/300\n",
      "37/37 [==============================] - 0s 3ms/step - loss: 672015296.0000 - val_loss: 687880448.0000\n",
      "Epoch 4/300\n",
      "37/37 [==============================] - 0s 3ms/step - loss: 671746624.0000 - val_loss: 687448256.0000\n",
      "Epoch 5/300\n",
      "37/37 [==============================] - 0s 3ms/step - loss: 671084864.0000 - val_loss: 686437440.0000\n",
      "Epoch 6/300\n",
      "37/37 [==============================] - 0s 3ms/step - loss: 669624640.0000 - val_loss: 684314624.0000\n",
      "Epoch 7/300\n",
      "37/37 [==============================] - 0s 3ms/step - loss: 666707776.0000 - val_loss: 680240256.0000\n",
      "Epoch 8/300\n",
      "37/37 [==============================] - 0s 4ms/step - loss: 661357760.0000 - val_loss: 673062336.0000\n",
      "Epoch 9/300\n",
      "37/37 [==============================] - 0s 3ms/step - loss: 652294080.0000 - val_loss: 661238272.0000\n",
      "Epoch 10/300\n",
      "37/37 [==============================] - 0s 3ms/step - loss: 637829056.0000 - val_loss: 642932544.0000\n",
      "Epoch 11/300\n",
      "37/37 [==============================] - 0s 3ms/step - loss: 616097088.0000 - val_loss: 616232576.0000\n",
      "Epoch 12/300\n",
      "37/37 [==============================] - 0s 3ms/step - loss: 585173824.0000 - val_loss: 579250368.0000\n",
      "Epoch 13/300\n",
      "37/37 [==============================] - 0s 3ms/step - loss: 543529600.0000 - val_loss: 530697216.0000\n",
      "Epoch 14/300\n",
      "37/37 [==============================] - 0s 3ms/step - loss: 490485312.0000 - val_loss: 470795392.0000\n",
      "Epoch 15/300\n",
      "37/37 [==============================] - 0s 4ms/step - loss: 427114496.0000 - val_loss: 401227936.0000\n",
      "Epoch 16/300\n",
      "37/37 [==============================] - 0s 4ms/step - loss: 356209280.0000 - val_loss: 326921920.0000\n",
      "Epoch 17/300\n",
      "37/37 [==============================] - 0s 4ms/step - loss: 283392864.0000 - val_loss: 254068592.0000\n",
      "Epoch 18/300\n",
      "37/37 [==============================] - 0s 4ms/step - loss: 216099632.0000 - val_loss: 190922224.0000\n",
      "Epoch 19/300\n",
      "37/37 [==============================] - 0s 4ms/step - loss: 161301072.0000 - val_loss: 144102352.0000\n",
      "Epoch 20/300\n",
      "37/37 [==============================] - 0s 4ms/step - loss: 123706312.0000 - val_loss: 114835152.0000\n",
      "Epoch 21/300\n",
      "37/37 [==============================] - 0s 3ms/step - loss: 102504856.0000 - val_loss: 100106368.0000\n",
      "Epoch 22/300\n",
      "37/37 [==============================] - 0s 4ms/step - loss: 92767112.0000 - val_loss: 94046128.0000\n",
      "Epoch 23/300\n",
      "37/37 [==============================] - 0s 3ms/step - loss: 89004984.0000 - val_loss: 91748096.0000\n",
      "Epoch 24/300\n",
      "37/37 [==============================] - 0s 3ms/step - loss: 87671272.0000 - val_loss: 90616848.0000\n",
      "Epoch 25/300\n",
      "37/37 [==============================] - 0s 3ms/step - loss: 86931128.0000 - val_loss: 89943592.0000\n",
      "Epoch 26/300\n",
      "37/37 [==============================] - 0s 3ms/step - loss: 86443840.0000 - val_loss: 89330312.0000\n",
      "Epoch 27/300\n",
      "37/37 [==============================] - 0s 3ms/step - loss: 86015952.0000 - val_loss: 88784888.0000\n",
      "Epoch 28/300\n",
      "37/37 [==============================] - 0s 3ms/step - loss: 85617472.0000 - val_loss: 88260384.0000\n",
      "Epoch 29/300\n",
      "37/37 [==============================] - 0s 4ms/step - loss: 85221176.0000 - val_loss: 87770776.0000\n",
      "Epoch 30/300\n",
      "37/37 [==============================] - 0s 4ms/step - loss: 84850488.0000 - val_loss: 87297032.0000\n",
      "Epoch 31/300\n",
      "37/37 [==============================] - 0s 3ms/step - loss: 84483064.0000 - val_loss: 86801824.0000\n",
      "Epoch 32/300\n",
      "37/37 [==============================] - 0s 4ms/step - loss: 84124688.0000 - val_loss: 86362496.0000\n",
      "Epoch 33/300\n",
      "37/37 [==============================] - 0s 4ms/step - loss: 83754880.0000 - val_loss: 85911256.0000\n",
      "Epoch 34/300\n",
      "37/37 [==============================] - 0s 4ms/step - loss: 83402672.0000 - val_loss: 85460616.0000\n",
      "Epoch 35/300\n",
      "37/37 [==============================] - 0s 4ms/step - loss: 83049272.0000 - val_loss: 85030456.0000\n",
      "Epoch 36/300\n",
      "37/37 [==============================] - 0s 5ms/step - loss: 82708672.0000 - val_loss: 84574176.0000\n",
      "Epoch 37/300\n",
      "37/37 [==============================] - 0s 4ms/step - loss: 82365456.0000 - val_loss: 84166648.0000\n",
      "Epoch 38/300\n",
      "37/37 [==============================] - 0s 3ms/step - loss: 82024464.0000 - val_loss: 83722040.0000\n",
      "Epoch 39/300\n",
      "37/37 [==============================] - 0s 4ms/step - loss: 81678552.0000 - val_loss: 83305496.0000\n",
      "Epoch 40/300\n",
      "37/37 [==============================] - 0s 4ms/step - loss: 81342696.0000 - val_loss: 82911776.0000\n",
      "Epoch 41/300\n",
      "37/37 [==============================] - 0s 4ms/step - loss: 81009840.0000 - val_loss: 82490856.0000\n",
      "Epoch 42/300\n",
      "37/37 [==============================] - 0s 4ms/step - loss: 80669352.0000 - val_loss: 82064792.0000\n",
      "Epoch 43/300\n",
      "37/37 [==============================] - 0s 5ms/step - loss: 80339064.0000 - val_loss: 81654536.0000\n",
      "Epoch 44/300\n",
      "37/37 [==============================] - 0s 5ms/step - loss: 80004592.0000 - val_loss: 81252560.0000\n",
      "Epoch 45/300\n",
      "37/37 [==============================] - 0s 5ms/step - loss: 79670776.0000 - val_loss: 80833464.0000\n",
      "Epoch 46/300\n",
      "37/37 [==============================] - 0s 6ms/step - loss: 79335064.0000 - val_loss: 80447656.0000\n",
      "Epoch 47/300\n",
      "37/37 [==============================] - 0s 5ms/step - loss: 78998400.0000 - val_loss: 80022512.0000\n",
      "Epoch 48/300\n",
      "37/37 [==============================] - 0s 5ms/step - loss: 78669488.0000 - val_loss: 79613536.0000\n",
      "Epoch 49/300\n",
      "37/37 [==============================] - 0s 4ms/step - loss: 78337728.0000 - val_loss: 79224416.0000\n",
      "Epoch 50/300\n",
      "37/37 [==============================] - 0s 5ms/step - loss: 78002552.0000 - val_loss: 78820512.0000\n",
      "Epoch 51/300\n",
      "37/37 [==============================] - 0s 4ms/step - loss: 77668880.0000 - val_loss: 78432080.0000\n",
      "Epoch 52/300\n",
      "37/37 [==============================] - 0s 4ms/step - loss: 77342152.0000 - val_loss: 78021328.0000\n",
      "Epoch 53/300\n",
      "37/37 [==============================] - 0s 4ms/step - loss: 76998560.0000 - val_loss: 77621608.0000\n",
      "Epoch 54/300\n",
      "37/37 [==============================] - 0s 5ms/step - loss: 76667304.0000 - val_loss: 77215800.0000\n",
      "Epoch 55/300\n",
      "37/37 [==============================] - 0s 5ms/step - loss: 76332816.0000 - val_loss: 76827200.0000\n",
      "Epoch 56/300\n",
      "37/37 [==============================] - 0s 4ms/step - loss: 75993520.0000 - val_loss: 76443760.0000\n",
      "Epoch 57/300\n",
      "37/37 [==============================] - 0s 3ms/step - loss: 75666752.0000 - val_loss: 76055232.0000\n",
      "Epoch 58/300\n",
      "37/37 [==============================] - 0s 4ms/step - loss: 75332096.0000 - val_loss: 75624128.0000\n",
      "Epoch 59/300\n",
      "37/37 [==============================] - 0s 4ms/step - loss: 74997712.0000 - val_loss: 75242696.0000\n",
      "Epoch 60/300\n",
      "37/37 [==============================] - 0s 5ms/step - loss: 74648680.0000 - val_loss: 74823232.0000\n",
      "Epoch 61/300\n",
      "37/37 [==============================] - 0s 5ms/step - loss: 74298592.0000 - val_loss: 74426456.0000\n",
      "Epoch 62/300\n",
      "37/37 [==============================] - 0s 4ms/step - loss: 73956904.0000 - val_loss: 73979080.0000\n",
      "Epoch 63/300\n",
      "37/37 [==============================] - 0s 3ms/step - loss: 73613968.0000 - val_loss: 73583280.0000\n",
      "Epoch 64/300\n",
      "37/37 [==============================] - 0s 3ms/step - loss: 73276984.0000 - val_loss: 73179048.0000\n",
      "Epoch 65/300\n",
      "37/37 [==============================] - 0s 4ms/step - loss: 72918208.0000 - val_loss: 72825424.0000\n",
      "Epoch 66/300\n",
      "37/37 [==============================] - 0s 6ms/step - loss: 72564152.0000 - val_loss: 72346920.0000\n",
      "Epoch 67/300\n",
      "37/37 [==============================] - 0s 6ms/step - loss: 72226144.0000 - val_loss: 71933576.0000\n",
      "Epoch 68/300\n",
      "37/37 [==============================] - 0s 5ms/step - loss: 71866424.0000 - val_loss: 71572352.0000\n",
      "Epoch 69/300\n",
      "37/37 [==============================] - 0s 4ms/step - loss: 71513072.0000 - val_loss: 71138800.0000\n",
      "Epoch 70/300\n",
      "37/37 [==============================] - 0s 3ms/step - loss: 71153680.0000 - val_loss: 70753392.0000\n",
      "Epoch 71/300\n",
      "37/37 [==============================] - 0s 4ms/step - loss: 70807176.0000 - val_loss: 70316520.0000\n",
      "Epoch 72/300\n",
      "37/37 [==============================] - 0s 4ms/step - loss: 70433216.0000 - val_loss: 69863304.0000\n",
      "Epoch 73/300\n",
      "37/37 [==============================] - 0s 4ms/step - loss: 70082640.0000 - val_loss: 69490024.0000\n",
      "Epoch 74/300\n",
      "37/37 [==============================] - 0s 3ms/step - loss: 69719440.0000 - val_loss: 69046504.0000\n",
      "Epoch 75/300\n",
      "37/37 [==============================] - 0s 3ms/step - loss: 69346840.0000 - val_loss: 68635168.0000\n",
      "Epoch 76/300\n",
      "37/37 [==============================] - 0s 4ms/step - loss: 68974128.0000 - val_loss: 68244504.0000\n",
      "Epoch 77/300\n",
      "37/37 [==============================] - 0s 4ms/step - loss: 68595456.0000 - val_loss: 67761352.0000\n",
      "Epoch 78/300\n",
      "37/37 [==============================] - 0s 3ms/step - loss: 68248672.0000 - val_loss: 67343224.0000\n",
      "Epoch 79/300\n",
      "37/37 [==============================] - 0s 3ms/step - loss: 67835856.0000 - val_loss: 66907140.0000\n",
      "Epoch 80/300\n",
      "37/37 [==============================] - 0s 3ms/step - loss: 67456320.0000 - val_loss: 66464448.0000\n",
      "Epoch 81/300\n",
      "37/37 [==============================] - 0s 3ms/step - loss: 67071308.0000 - val_loss: 66042256.0000\n",
      "Epoch 82/300\n",
      "37/37 [==============================] - 0s 3ms/step - loss: 66680168.0000 - val_loss: 65604112.0000\n",
      "Epoch 83/300\n",
      "37/37 [==============================] - 0s 3ms/step - loss: 66286800.0000 - val_loss: 65172208.0000\n",
      "Epoch 84/300\n",
      "37/37 [==============================] - 0s 4ms/step - loss: 65885504.0000 - val_loss: 64724772.0000\n",
      "Epoch 85/300\n",
      "37/37 [==============================] - 0s 5ms/step - loss: 65492924.0000 - val_loss: 64208148.0000\n",
      "Epoch 86/300\n",
      "37/37 [==============================] - 0s 4ms/step - loss: 65080840.0000 - val_loss: 63804544.0000\n",
      "Epoch 87/300\n",
      "37/37 [==============================] - 0s 4ms/step - loss: 64678012.0000 - val_loss: 63319676.0000\n",
      "Epoch 88/300\n",
      "37/37 [==============================] - 0s 3ms/step - loss: 64261696.0000 - val_loss: 62900480.0000\n",
      "Epoch 89/300\n",
      "37/37 [==============================] - 0s 3ms/step - loss: 63849304.0000 - val_loss: 62358412.0000\n",
      "Epoch 90/300\n",
      "37/37 [==============================] - 0s 3ms/step - loss: 63438344.0000 - val_loss: 61940696.0000\n",
      "Epoch 91/300\n",
      "37/37 [==============================] - 0s 3ms/step - loss: 62999692.0000 - val_loss: 61401148.0000\n",
      "Epoch 92/300\n",
      "37/37 [==============================] - 0s 3ms/step - loss: 62562000.0000 - val_loss: 60947324.0000\n",
      "Epoch 93/300\n",
      "37/37 [==============================] - 0s 3ms/step - loss: 62127964.0000 - val_loss: 60498444.0000\n",
      "Epoch 94/300\n",
      "37/37 [==============================] - 0s 4ms/step - loss: 61684792.0000 - val_loss: 59966852.0000\n",
      "Epoch 95/300\n",
      "37/37 [==============================] - 0s 3ms/step - loss: 61243644.0000 - val_loss: 59500012.0000\n",
      "Epoch 96/300\n",
      "37/37 [==============================] - 0s 3ms/step - loss: 60784548.0000 - val_loss: 59030564.0000\n",
      "Epoch 97/300\n",
      "37/37 [==============================] - 0s 3ms/step - loss: 60325584.0000 - val_loss: 58453688.0000\n",
      "Epoch 98/300\n",
      "37/37 [==============================] - 0s 3ms/step - loss: 59860648.0000 - val_loss: 57969376.0000\n",
      "Epoch 99/300\n",
      "37/37 [==============================] - 0s 3ms/step - loss: 59402908.0000 - val_loss: 57423260.0000\n",
      "Epoch 100/300\n",
      "37/37 [==============================] - 0s 3ms/step - loss: 58918852.0000 - val_loss: 56945444.0000\n",
      "Epoch 101/300\n",
      "37/37 [==============================] - 0s 3ms/step - loss: 58435364.0000 - val_loss: 56447548.0000\n",
      "Epoch 102/300\n",
      "37/37 [==============================] - 0s 3ms/step - loss: 57949460.0000 - val_loss: 55868244.0000\n",
      "Epoch 103/300\n",
      "37/37 [==============================] - 0s 3ms/step - loss: 57472048.0000 - val_loss: 55225208.0000\n",
      "Epoch 104/300\n",
      "37/37 [==============================] - 0s 3ms/step - loss: 56940808.0000 - val_loss: 54863308.0000\n",
      "Epoch 105/300\n",
      "37/37 [==============================] - 0s 3ms/step - loss: 56438832.0000 - val_loss: 54223312.0000\n",
      "Epoch 106/300\n",
      "37/37 [==============================] - 0s 3ms/step - loss: 55909820.0000 - val_loss: 53796036.0000\n",
      "Epoch 107/300\n",
      "37/37 [==============================] - 0s 3ms/step - loss: 55387836.0000 - val_loss: 53100508.0000\n",
      "Epoch 108/300\n",
      "37/37 [==============================] - 0s 3ms/step - loss: 54850200.0000 - val_loss: 52565332.0000\n",
      "Epoch 109/300\n",
      "37/37 [==============================] - 0s 3ms/step - loss: 54300156.0000 - val_loss: 51977760.0000\n",
      "Epoch 110/300\n",
      "37/37 [==============================] - 0s 4ms/step - loss: 53755848.0000 - val_loss: 51446320.0000\n",
      "Epoch 111/300\n",
      "37/37 [==============================] - 0s 4ms/step - loss: 53203248.0000 - val_loss: 50865452.0000\n",
      "Epoch 112/300\n",
      "37/37 [==============================] - 0s 3ms/step - loss: 52631084.0000 - val_loss: 50282184.0000\n",
      "Epoch 113/300\n",
      "37/37 [==============================] - 0s 3ms/step - loss: 52077104.0000 - val_loss: 49627548.0000\n",
      "Epoch 114/300\n",
      "37/37 [==============================] - 0s 3ms/step - loss: 51479028.0000 - val_loss: 49031420.0000\n",
      "Epoch 115/300\n",
      "37/37 [==============================] - 0s 3ms/step - loss: 50883820.0000 - val_loss: 48531376.0000\n",
      "Epoch 116/300\n",
      "37/37 [==============================] - 0s 3ms/step - loss: 50283424.0000 - val_loss: 47818068.0000\n",
      "Epoch 117/300\n",
      "37/37 [==============================] - 0s 3ms/step - loss: 49675956.0000 - val_loss: 47282040.0000\n",
      "Epoch 118/300\n",
      "37/37 [==============================] - 0s 3ms/step - loss: 49066116.0000 - val_loss: 46643872.0000\n",
      "Epoch 119/300\n",
      "37/37 [==============================] - 0s 3ms/step - loss: 48442288.0000 - val_loss: 46081300.0000\n",
      "Epoch 120/300\n",
      "37/37 [==============================] - 0s 3ms/step - loss: 47824008.0000 - val_loss: 45385408.0000\n",
      "Epoch 121/300\n",
      "37/37 [==============================] - 0s 4ms/step - loss: 47204084.0000 - val_loss: 44924188.0000\n",
      "Epoch 122/300\n",
      "37/37 [==============================] - 0s 3ms/step - loss: 46560820.0000 - val_loss: 44378824.0000\n",
      "Epoch 123/300\n",
      "37/37 [==============================] - 0s 3ms/step - loss: 45926480.0000 - val_loss: 43811276.0000\n",
      "Epoch 124/300\n",
      "37/37 [==============================] - 0s 3ms/step - loss: 45304336.0000 - val_loss: 43087488.0000\n",
      "Epoch 125/300\n",
      "37/37 [==============================] - 0s 3ms/step - loss: 44662220.0000 - val_loss: 42544144.0000\n",
      "Epoch 126/300\n",
      "37/37 [==============================] - 0s 3ms/step - loss: 44018488.0000 - val_loss: 42176676.0000\n",
      "Epoch 127/300\n",
      "37/37 [==============================] - 0s 3ms/step - loss: 43391560.0000 - val_loss: 41600424.0000\n",
      "Epoch 128/300\n",
      "37/37 [==============================] - 0s 3ms/step - loss: 42765396.0000 - val_loss: 41108936.0000\n",
      "Epoch 129/300\n",
      "37/37 [==============================] - 0s 3ms/step - loss: 42127120.0000 - val_loss: 40539612.0000\n",
      "Epoch 130/300\n",
      "37/37 [==============================] - 0s 3ms/step - loss: 41518696.0000 - val_loss: 40149248.0000\n",
      "Epoch 131/300\n",
      "37/37 [==============================] - 0s 3ms/step - loss: 40906404.0000 - val_loss: 39756976.0000\n",
      "Epoch 132/300\n",
      "37/37 [==============================] - 0s 3ms/step - loss: 40313284.0000 - val_loss: 39431416.0000\n",
      "Epoch 133/300\n",
      "37/37 [==============================] - 0s 3ms/step - loss: 39724660.0000 - val_loss: 38895892.0000\n",
      "Epoch 134/300\n",
      "37/37 [==============================] - 0s 3ms/step - loss: 39156076.0000 - val_loss: 38107120.0000\n",
      "Epoch 135/300\n",
      "37/37 [==============================] - 0s 4ms/step - loss: 38581744.0000 - val_loss: 38218192.0000\n",
      "Epoch 136/300\n",
      "37/37 [==============================] - 0s 4ms/step - loss: 38037460.0000 - val_loss: 37535728.0000\n",
      "Epoch 137/300\n",
      "37/37 [==============================] - 0s 3ms/step - loss: 37508172.0000 - val_loss: 37434960.0000\n",
      "Epoch 138/300\n",
      "37/37 [==============================] - 0s 4ms/step - loss: 36996984.0000 - val_loss: 36956388.0000\n",
      "Epoch 139/300\n",
      "37/37 [==============================] - 0s 3ms/step - loss: 36501896.0000 - val_loss: 37036864.0000\n",
      "Epoch 140/300\n",
      "37/37 [==============================] - 0s 3ms/step - loss: 36039132.0000 - val_loss: 36674664.0000\n",
      "Epoch 141/300\n",
      "37/37 [==============================] - 0s 3ms/step - loss: 35610364.0000 - val_loss: 36585468.0000\n",
      "Epoch 142/300\n",
      "37/37 [==============================] - 0s 3ms/step - loss: 35164220.0000 - val_loss: 36347580.0000\n",
      "Epoch 143/300\n"
     ]
    },
    {
     "name": "stdout",
     "output_type": "stream",
     "text": [
      "37/37 [==============================] - 0s 3ms/step - loss: 34746752.0000 - val_loss: 35943372.0000\n",
      "Epoch 144/300\n",
      "37/37 [==============================] - 0s 3ms/step - loss: 34356440.0000 - val_loss: 35872972.0000\n",
      "Epoch 145/300\n",
      "37/37 [==============================] - 0s 3ms/step - loss: 33987340.0000 - val_loss: 35879872.0000\n",
      "Epoch 146/300\n",
      "37/37 [==============================] - 0s 3ms/step - loss: 33624244.0000 - val_loss: 35561956.0000\n",
      "Epoch 147/300\n",
      "37/37 [==============================] - 0s 4ms/step - loss: 33280670.0000 - val_loss: 35762616.0000\n",
      "Epoch 148/300\n",
      "37/37 [==============================] - 0s 4ms/step - loss: 32948066.0000 - val_loss: 35404812.0000\n",
      "Epoch 149/300\n",
      "37/37 [==============================] - 0s 3ms/step - loss: 32610988.0000 - val_loss: 35024556.0000\n",
      "Epoch 150/300\n",
      "37/37 [==============================] - 0s 3ms/step - loss: 32251596.0000 - val_loss: 34710868.0000\n",
      "Epoch 151/300\n",
      "37/37 [==============================] - 0s 4ms/step - loss: 31926262.0000 - val_loss: 34452736.0000\n",
      "Epoch 152/300\n",
      "37/37 [==============================] - 0s 4ms/step - loss: 31629140.0000 - val_loss: 34867984.0000\n",
      "Epoch 153/300\n",
      "37/37 [==============================] - 0s 3ms/step - loss: 31287348.0000 - val_loss: 34514232.0000\n",
      "Epoch 154/300\n",
      "37/37 [==============================] - 0s 3ms/step - loss: 30961168.0000 - val_loss: 34284184.0000\n",
      "Epoch 155/300\n",
      "37/37 [==============================] - 0s 4ms/step - loss: 30614190.0000 - val_loss: 34216000.0000\n",
      "Epoch 156/300\n",
      "37/37 [==============================] - 0s 4ms/step - loss: 30293512.0000 - val_loss: 33520470.0000\n",
      "Epoch 157/300\n",
      "37/37 [==============================] - 0s 3ms/step - loss: 29952762.0000 - val_loss: 33691436.0000\n",
      "Epoch 158/300\n",
      "37/37 [==============================] - 0s 4ms/step - loss: 29598168.0000 - val_loss: 33222428.0000\n",
      "Epoch 159/300\n",
      "37/37 [==============================] - 0s 3ms/step - loss: 29244694.0000 - val_loss: 32727524.0000\n",
      "Epoch 160/300\n",
      "37/37 [==============================] - 0s 3ms/step - loss: 28858842.0000 - val_loss: 32438106.0000\n",
      "Epoch 161/300\n",
      "37/37 [==============================] - 0s 3ms/step - loss: 28506984.0000 - val_loss: 31995952.0000\n",
      "Epoch 162/300\n",
      "37/37 [==============================] - 0s 3ms/step - loss: 28117632.0000 - val_loss: 31690678.0000\n",
      "Epoch 163/300\n",
      "37/37 [==============================] - 0s 3ms/step - loss: 27776400.0000 - val_loss: 31438784.0000\n",
      "Epoch 164/300\n",
      "37/37 [==============================] - 0s 3ms/step - loss: 27417256.0000 - val_loss: 31461802.0000\n",
      "Epoch 165/300\n",
      "37/37 [==============================] - 0s 3ms/step - loss: 27059866.0000 - val_loss: 30395012.0000\n",
      "Epoch 166/300\n",
      "37/37 [==============================] - 0s 3ms/step - loss: 26731970.0000 - val_loss: 30397582.0000\n",
      "Epoch 167/300\n",
      "37/37 [==============================] - 0s 3ms/step - loss: 26420796.0000 - val_loss: 30535290.0000\n",
      "Epoch 168/300\n",
      "37/37 [==============================] - 0s 3ms/step - loss: 26121434.0000 - val_loss: 30163622.0000\n",
      "Epoch 169/300\n",
      "37/37 [==============================] - 0s 3ms/step - loss: 25777934.0000 - val_loss: 29407952.0000\n",
      "Epoch 170/300\n",
      "37/37 [==============================] - 0s 3ms/step - loss: 25516294.0000 - val_loss: 29583572.0000\n",
      "Epoch 171/300\n",
      "37/37 [==============================] - 0s 3ms/step - loss: 25213560.0000 - val_loss: 29187422.0000\n",
      "Epoch 172/300\n",
      "37/37 [==============================] - 0s 3ms/step - loss: 24927036.0000 - val_loss: 29054840.0000\n",
      "Epoch 173/300\n",
      "37/37 [==============================] - 0s 3ms/step - loss: 24679712.0000 - val_loss: 28610106.0000\n",
      "Epoch 174/300\n",
      "37/37 [==============================] - 0s 3ms/step - loss: 24450940.0000 - val_loss: 28525466.0000\n",
      "Epoch 175/300\n",
      "37/37 [==============================] - 0s 4ms/step - loss: 24182740.0000 - val_loss: 27833414.0000\n",
      "Epoch 176/300\n",
      "37/37 [==============================] - 0s 4ms/step - loss: 23956682.0000 - val_loss: 28083536.0000\n",
      "Epoch 177/300\n",
      "37/37 [==============================] - 0s 3ms/step - loss: 23778656.0000 - val_loss: 27548312.0000\n",
      "Epoch 178/300\n",
      "37/37 [==============================] - 0s 3ms/step - loss: 23575080.0000 - val_loss: 27522438.0000\n",
      "Epoch 179/300\n",
      "37/37 [==============================] - 0s 4ms/step - loss: 23378128.0000 - val_loss: 27069130.0000\n",
      "Epoch 180/300\n",
      "37/37 [==============================] - 0s 4ms/step - loss: 23218546.0000 - val_loss: 27047172.0000\n",
      "Epoch 181/300\n",
      "37/37 [==============================] - 0s 4ms/step - loss: 23069640.0000 - val_loss: 26443292.0000\n",
      "Epoch 182/300\n",
      "37/37 [==============================] - 0s 4ms/step - loss: 22936062.0000 - val_loss: 26587428.0000\n",
      "Epoch 183/300\n",
      "37/37 [==============================] - 0s 3ms/step - loss: 22791604.0000 - val_loss: 26642126.0000\n",
      "Epoch 184/300\n",
      "37/37 [==============================] - 0s 3ms/step - loss: 22683456.0000 - val_loss: 26600048.0000\n",
      "Epoch 185/300\n",
      "37/37 [==============================] - 0s 4ms/step - loss: 22575350.0000 - val_loss: 26521788.0000\n",
      "Epoch 186/300\n",
      "37/37 [==============================] - 0s 3ms/step - loss: 22468102.0000 - val_loss: 26282416.0000\n",
      "Epoch 187/300\n",
      "37/37 [==============================] - 0s 4ms/step - loss: 22358272.0000 - val_loss: 26315540.0000\n",
      "Epoch 188/300\n",
      "37/37 [==============================] - 0s 4ms/step - loss: 22255816.0000 - val_loss: 26355530.0000\n",
      "Epoch 189/300\n",
      "37/37 [==============================] - 0s 3ms/step - loss: 22173358.0000 - val_loss: 25834308.0000\n",
      "Epoch 190/300\n",
      "37/37 [==============================] - 0s 4ms/step - loss: 22099394.0000 - val_loss: 26387192.0000\n",
      "Epoch 191/300\n",
      "37/37 [==============================] - 0s 4ms/step - loss: 22007072.0000 - val_loss: 25993578.0000\n",
      "Epoch 192/300\n",
      "37/37 [==============================] - 0s 4ms/step - loss: 21953002.0000 - val_loss: 26111004.0000\n",
      "Epoch 193/300\n",
      "37/37 [==============================] - 0s 3ms/step - loss: 21913172.0000 - val_loss: 26397386.0000\n",
      "Epoch 194/300\n",
      "37/37 [==============================] - 0s 3ms/step - loss: 21833024.0000 - val_loss: 26101550.0000\n",
      "Epoch 195/300\n",
      "37/37 [==============================] - 0s 3ms/step - loss: 21752790.0000 - val_loss: 25943512.0000\n",
      "Epoch 196/300\n",
      "37/37 [==============================] - 0s 4ms/step - loss: 21682364.0000 - val_loss: 25332760.0000\n",
      "Epoch 197/300\n",
      "37/37 [==============================] - 0s 4ms/step - loss: 21636576.0000 - val_loss: 25539366.0000\n",
      "Epoch 198/300\n",
      "37/37 [==============================] - 0s 3ms/step - loss: 21570808.0000 - val_loss: 25696022.0000\n",
      "Epoch 199/300\n",
      "37/37 [==============================] - 0s 4ms/step - loss: 21523318.0000 - val_loss: 25573380.0000\n",
      "Epoch 200/300\n",
      "37/37 [==============================] - 0s 4ms/step - loss: 21491000.0000 - val_loss: 25526782.0000\n",
      "Epoch 201/300\n",
      "37/37 [==============================] - 0s 4ms/step - loss: 21457190.0000 - val_loss: 25646618.0000\n",
      "Epoch 202/300\n",
      "37/37 [==============================] - 0s 3ms/step - loss: 21377780.0000 - val_loss: 25004476.0000\n",
      "Epoch 203/300\n",
      "37/37 [==============================] - 0s 4ms/step - loss: 21336102.0000 - val_loss: 26111680.0000\n",
      "Epoch 204/300\n",
      "37/37 [==============================] - 0s 5ms/step - loss: 21286480.0000 - val_loss: 24816242.0000\n",
      "Epoch 205/300\n",
      "37/37 [==============================] - 0s 4ms/step - loss: 21267698.0000 - val_loss: 25224304.0000\n",
      "Epoch 206/300\n",
      "37/37 [==============================] - 0s 4ms/step - loss: 21228082.0000 - val_loss: 25547230.0000\n",
      "Epoch 207/300\n",
      "37/37 [==============================] - 0s 4ms/step - loss: 21185872.0000 - val_loss: 25220082.0000\n",
      "Epoch 208/300\n",
      "37/37 [==============================] - 0s 3ms/step - loss: 21134012.0000 - val_loss: 25589476.0000\n",
      "Epoch 209/300\n",
      "37/37 [==============================] - 0s 5ms/step - loss: 21143174.0000 - val_loss: 25335092.0000\n",
      "Epoch 210/300\n",
      "37/37 [==============================] - 0s 4ms/step - loss: 21098864.0000 - val_loss: 24931232.0000\n",
      "Epoch 211/300\n",
      "37/37 [==============================] - 0s 3ms/step - loss: 21042584.0000 - val_loss: 24998998.0000\n",
      "Epoch 212/300\n",
      "37/37 [==============================] - 0s 3ms/step - loss: 21021682.0000 - val_loss: 25237536.0000\n",
      "Epoch 213/300\n",
      "37/37 [==============================] - 0s 3ms/step - loss: 20981732.0000 - val_loss: 25165534.0000\n",
      "Epoch 214/300\n",
      "37/37 [==============================] - 0s 4ms/step - loss: 20947802.0000 - val_loss: 24863992.0000\n",
      "Epoch 215/300\n",
      "37/37 [==============================] - 0s 6ms/step - loss: 20926172.0000 - val_loss: 24986728.0000\n",
      "Epoch 216/300\n",
      "37/37 [==============================] - 0s 4ms/step - loss: 20896538.0000 - val_loss: 25044600.0000\n",
      "Epoch 217/300\n",
      "37/37 [==============================] - 0s 4ms/step - loss: 20868810.0000 - val_loss: 24927510.0000\n",
      "Epoch 218/300\n",
      "37/37 [==============================] - 0s 4ms/step - loss: 20849254.0000 - val_loss: 25293254.0000\n",
      "Epoch 219/300\n",
      "37/37 [==============================] - 0s 4ms/step - loss: 20801596.0000 - val_loss: 24781038.0000\n",
      "Epoch 220/300\n",
      "37/37 [==============================] - 0s 4ms/step - loss: 20788526.0000 - val_loss: 24825420.0000\n",
      "Epoch 221/300\n",
      "37/37 [==============================] - 0s 4ms/step - loss: 20749164.0000 - val_loss: 24581952.0000\n",
      "Epoch 222/300\n",
      "37/37 [==============================] - 0s 3ms/step - loss: 20729508.0000 - val_loss: 24870098.0000\n",
      "Epoch 223/300\n",
      "37/37 [==============================] - 0s 3ms/step - loss: 20708458.0000 - val_loss: 24660324.0000\n",
      "Epoch 224/300\n",
      "37/37 [==============================] - 0s 3ms/step - loss: 20670606.0000 - val_loss: 24964032.0000\n",
      "Epoch 225/300\n",
      "37/37 [==============================] - 0s 3ms/step - loss: 20664108.0000 - val_loss: 24552900.0000\n",
      "Epoch 226/300\n",
      "37/37 [==============================] - 0s 4ms/step - loss: 20625276.0000 - val_loss: 24639484.0000\n",
      "Epoch 227/300\n",
      "37/37 [==============================] - 0s 3ms/step - loss: 20611580.0000 - val_loss: 24426582.0000\n",
      "Epoch 228/300\n",
      "37/37 [==============================] - 0s 3ms/step - loss: 20593270.0000 - val_loss: 24523146.0000\n",
      "Epoch 229/300\n",
      "37/37 [==============================] - 0s 3ms/step - loss: 20596142.0000 - val_loss: 24321066.0000\n",
      "Epoch 230/300\n",
      "37/37 [==============================] - 0s 3ms/step - loss: 20585030.0000 - val_loss: 24506812.0000\n",
      "Epoch 231/300\n",
      "37/37 [==============================] - 0s 3ms/step - loss: 20526710.0000 - val_loss: 24869378.0000\n",
      "Epoch 232/300\n",
      "37/37 [==============================] - 0s 3ms/step - loss: 20482710.0000 - val_loss: 24801918.0000\n",
      "Epoch 233/300\n",
      "37/37 [==============================] - 0s 3ms/step - loss: 20473650.0000 - val_loss: 24844550.0000\n",
      "Epoch 234/300\n",
      "37/37 [==============================] - 0s 3ms/step - loss: 20438356.0000 - val_loss: 24685582.0000\n",
      "Epoch 235/300\n",
      "37/37 [==============================] - 0s 3ms/step - loss: 20419226.0000 - val_loss: 24919752.0000\n",
      "Epoch 236/300\n",
      "37/37 [==============================] - 0s 3ms/step - loss: 20387434.0000 - val_loss: 24117666.0000\n",
      "Epoch 237/300\n",
      "37/37 [==============================] - 0s 3ms/step - loss: 20399516.0000 - val_loss: 24945984.0000\n",
      "Epoch 238/300\n",
      "37/37 [==============================] - 0s 3ms/step - loss: 20352294.0000 - val_loss: 24334432.0000\n",
      "Epoch 239/300\n",
      "37/37 [==============================] - 0s 3ms/step - loss: 20348896.0000 - val_loss: 24904324.0000\n",
      "Epoch 240/300\n",
      "37/37 [==============================] - 0s 3ms/step - loss: 20328472.0000 - val_loss: 24517612.0000\n",
      "Epoch 241/300\n",
      "37/37 [==============================] - 0s 3ms/step - loss: 20296498.0000 - val_loss: 24359690.0000\n",
      "Epoch 242/300\n",
      "37/37 [==============================] - 0s 3ms/step - loss: 20247664.0000 - val_loss: 25199850.0000\n",
      "Epoch 243/300\n",
      "37/37 [==============================] - 0s 3ms/step - loss: 20252996.0000 - val_loss: 24746814.0000\n",
      "Epoch 244/300\n",
      "37/37 [==============================] - 0s 3ms/step - loss: 20225578.0000 - val_loss: 24703818.0000\n",
      "Epoch 245/300\n",
      "37/37 [==============================] - 0s 3ms/step - loss: 20201718.0000 - val_loss: 24796624.0000\n",
      "Epoch 246/300\n",
      "37/37 [==============================] - 0s 3ms/step - loss: 20191384.0000 - val_loss: 24349104.0000\n",
      "Epoch 247/300\n",
      "37/37 [==============================] - 0s 3ms/step - loss: 20151668.0000 - val_loss: 24302846.0000\n",
      "Epoch 248/300\n",
      "37/37 [==============================] - 0s 3ms/step - loss: 20143288.0000 - val_loss: 24381450.0000\n",
      "Epoch 249/300\n",
      "37/37 [==============================] - 0s 3ms/step - loss: 20110218.0000 - val_loss: 24147838.0000\n",
      "Epoch 250/300\n",
      "37/37 [==============================] - 0s 3ms/step - loss: 20102572.0000 - val_loss: 24380440.0000\n",
      "Epoch 251/300\n",
      "37/37 [==============================] - 0s 3ms/step - loss: 20089504.0000 - val_loss: 24607558.0000\n",
      "Epoch 252/300\n",
      "37/37 [==============================] - 0s 3ms/step - loss: 20051268.0000 - val_loss: 24046356.0000\n",
      "Epoch 253/300\n",
      "37/37 [==============================] - 0s 3ms/step - loss: 20041090.0000 - val_loss: 23719938.0000\n",
      "Epoch 254/300\n",
      "37/37 [==============================] - 0s 3ms/step - loss: 20051666.0000 - val_loss: 24026652.0000\n",
      "Epoch 255/300\n",
      "37/37 [==============================] - 0s 3ms/step - loss: 20038868.0000 - val_loss: 24114490.0000\n",
      "Epoch 256/300\n",
      "37/37 [==============================] - 0s 3ms/step - loss: 20001318.0000 - val_loss: 24007634.0000\n",
      "Epoch 257/300\n",
      "37/37 [==============================] - 0s 3ms/step - loss: 19991656.0000 - val_loss: 24303776.0000\n",
      "Epoch 258/300\n",
      "37/37 [==============================] - 0s 3ms/step - loss: 19969934.0000 - val_loss: 24106602.0000\n",
      "Epoch 259/300\n",
      "37/37 [==============================] - 0s 3ms/step - loss: 19949606.0000 - val_loss: 24056696.0000\n",
      "Epoch 260/300\n",
      "37/37 [==============================] - 0s 3ms/step - loss: 19913020.0000 - val_loss: 24607526.0000\n",
      "Epoch 261/300\n",
      "37/37 [==============================] - 0s 3ms/step - loss: 19911556.0000 - val_loss: 24299556.0000\n",
      "Epoch 262/300\n",
      "37/37 [==============================] - 0s 3ms/step - loss: 19894756.0000 - val_loss: 24212214.0000\n",
      "Epoch 263/300\n",
      "37/37 [==============================] - 0s 3ms/step - loss: 19875070.0000 - val_loss: 24242000.0000\n",
      "Epoch 264/300\n",
      "37/37 [==============================] - 0s 4ms/step - loss: 19850064.0000 - val_loss: 23997438.0000\n",
      "Epoch 265/300\n",
      "37/37 [==============================] - 0s 4ms/step - loss: 19830706.0000 - val_loss: 24228780.0000\n",
      "Epoch 266/300\n",
      "37/37 [==============================] - 0s 3ms/step - loss: 19824106.0000 - val_loss: 24092326.0000\n",
      "Epoch 267/300\n",
      "37/37 [==============================] - 0s 3ms/step - loss: 19799046.0000 - val_loss: 24105828.0000\n",
      "Epoch 268/300\n",
      "37/37 [==============================] - 0s 5ms/step - loss: 19788194.0000 - val_loss: 24375268.0000\n",
      "Epoch 269/300\n",
      "37/37 [==============================] - 0s 3ms/step - loss: 19765894.0000 - val_loss: 24351816.0000\n",
      "Epoch 270/300\n",
      "37/37 [==============================] - 0s 3ms/step - loss: 19789756.0000 - val_loss: 23835146.0000\n",
      "Epoch 271/300\n",
      "37/37 [==============================] - 0s 4ms/step - loss: 19731318.0000 - val_loss: 23786204.0000\n",
      "Epoch 272/300\n",
      "37/37 [==============================] - 0s 3ms/step - loss: 19731946.0000 - val_loss: 23561040.0000\n",
      "Epoch 273/300\n",
      "37/37 [==============================] - 0s 3ms/step - loss: 19715272.0000 - val_loss: 23310246.0000\n",
      "Epoch 274/300\n",
      "37/37 [==============================] - 0s 4ms/step - loss: 19675850.0000 - val_loss: 23895130.0000\n",
      "Epoch 275/300\n",
      "37/37 [==============================] - 0s 3ms/step - loss: 19642898.0000 - val_loss: 23657260.0000\n",
      "Epoch 276/300\n",
      "37/37 [==============================] - 0s 3ms/step - loss: 19634412.0000 - val_loss: 24370464.0000\n",
      "Epoch 277/300\n",
      "37/37 [==============================] - 0s 3ms/step - loss: 19603328.0000 - val_loss: 24270306.0000\n",
      "Epoch 278/300\n",
      "37/37 [==============================] - 0s 4ms/step - loss: 19597908.0000 - val_loss: 24019916.0000\n",
      "Epoch 279/300\n",
      "37/37 [==============================] - 0s 4ms/step - loss: 19578172.0000 - val_loss: 24116714.0000\n",
      "Epoch 280/300\n",
      "37/37 [==============================] - 0s 4ms/step - loss: 19538852.0000 - val_loss: 23629956.0000\n",
      "Epoch 281/300\n",
      "37/37 [==============================] - 0s 4ms/step - loss: 19549004.0000 - val_loss: 23694646.0000\n",
      "Epoch 282/300\n",
      "37/37 [==============================] - 0s 4ms/step - loss: 19500380.0000 - val_loss: 23808498.0000\n",
      "Epoch 283/300\n",
      "37/37 [==============================] - 0s 4ms/step - loss: 19502282.0000 - val_loss: 23696462.0000\n",
      "Epoch 284/300\n",
      "37/37 [==============================] - 0s 4ms/step - loss: 19461738.0000 - val_loss: 24010730.0000\n",
      "Epoch 285/300\n"
     ]
    },
    {
     "name": "stdout",
     "output_type": "stream",
     "text": [
      "37/37 [==============================] - 0s 4ms/step - loss: 19448664.0000 - val_loss: 23414722.0000\n",
      "Epoch 286/300\n",
      "37/37 [==============================] - 0s 4ms/step - loss: 19433476.0000 - val_loss: 23752054.0000\n",
      "Epoch 287/300\n",
      "37/37 [==============================] - 0s 4ms/step - loss: 19422172.0000 - val_loss: 24357190.0000\n",
      "Epoch 288/300\n",
      "37/37 [==============================] - 0s 4ms/step - loss: 19405210.0000 - val_loss: 23676180.0000\n",
      "Epoch 289/300\n",
      "37/37 [==============================] - 0s 4ms/step - loss: 19367240.0000 - val_loss: 22988188.0000\n",
      "Epoch 290/300\n",
      "37/37 [==============================] - 0s 4ms/step - loss: 19395316.0000 - val_loss: 23442612.0000\n",
      "Epoch 291/300\n",
      "37/37 [==============================] - 0s 4ms/step - loss: 19348066.0000 - val_loss: 23660398.0000\n",
      "Epoch 292/300\n",
      "37/37 [==============================] - 0s 4ms/step - loss: 19312604.0000 - val_loss: 23547818.0000\n",
      "Epoch 293/300\n",
      "37/37 [==============================] - 0s 4ms/step - loss: 19285030.0000 - val_loss: 23655398.0000\n",
      "Epoch 294/300\n",
      "37/37 [==============================] - 0s 4ms/step - loss: 19284846.0000 - val_loss: 23644674.0000\n",
      "Epoch 295/300\n",
      "37/37 [==============================] - 0s 4ms/step - loss: 19265160.0000 - val_loss: 23882172.0000\n",
      "Epoch 296/300\n",
      "37/37 [==============================] - 0s 4ms/step - loss: 19250954.0000 - val_loss: 23730390.0000\n",
      "Epoch 297/300\n",
      "37/37 [==============================] - 0s 4ms/step - loss: 19240586.0000 - val_loss: 23633820.0000\n",
      "Epoch 298/300\n",
      "37/37 [==============================] - 0s 4ms/step - loss: 19196350.0000 - val_loss: 23346610.0000\n",
      "Epoch 299/300\n",
      "37/37 [==============================] - 0s 4ms/step - loss: 19211120.0000 - val_loss: 23407100.0000\n",
      "Epoch 300/300\n",
      "37/37 [==============================] - 0s 5ms/step - loss: 19183258.0000 - val_loss: 23489684.0000\n"
     ]
    },
    {
     "data": {
      "text/plain": [
       "<keras.callbacks.History at 0x13518cc2a30>"
      ]
     },
     "execution_count": 24,
     "metadata": {},
     "output_type": "execute_result"
    }
   ],
   "source": [
    "model.fit(x = x_train, y = y_train, validation_data=(x_test,y_test),batch_size=250,epochs = 300)"
   ]
  },
  {
   "cell_type": "code",
   "execution_count": 25,
   "metadata": {},
   "outputs": [],
   "source": [
    "kayipVerisi = pd.DataFrame(model.history.history)"
   ]
  },
  {
   "cell_type": "code",
   "execution_count": 26,
   "metadata": {},
   "outputs": [
    {
     "data": {
      "text/html": [
       "<div>\n",
       "<style scoped>\n",
       "    .dataframe tbody tr th:only-of-type {\n",
       "        vertical-align: middle;\n",
       "    }\n",
       "\n",
       "    .dataframe tbody tr th {\n",
       "        vertical-align: top;\n",
       "    }\n",
       "\n",
       "    .dataframe thead th {\n",
       "        text-align: right;\n",
       "    }\n",
       "</style>\n",
       "<table border=\"1\" class=\"dataframe\">\n",
       "  <thead>\n",
       "    <tr style=\"text-align: right;\">\n",
       "      <th></th>\n",
       "      <th>loss</th>\n",
       "      <th>val_loss</th>\n",
       "    </tr>\n",
       "  </thead>\n",
       "  <tbody>\n",
       "    <tr>\n",
       "      <th>0</th>\n",
       "      <td>672141312.0</td>\n",
       "      <td>688096128.0</td>\n",
       "    </tr>\n",
       "    <tr>\n",
       "      <th>1</th>\n",
       "      <td>672110080.0</td>\n",
       "      <td>688042176.0</td>\n",
       "    </tr>\n",
       "    <tr>\n",
       "      <th>2</th>\n",
       "      <td>672015296.0</td>\n",
       "      <td>687880448.0</td>\n",
       "    </tr>\n",
       "    <tr>\n",
       "      <th>3</th>\n",
       "      <td>671746624.0</td>\n",
       "      <td>687448256.0</td>\n",
       "    </tr>\n",
       "    <tr>\n",
       "      <th>4</th>\n",
       "      <td>671084864.0</td>\n",
       "      <td>686437440.0</td>\n",
       "    </tr>\n",
       "  </tbody>\n",
       "</table>\n",
       "</div>"
      ],
      "text/plain": [
       "          loss     val_loss\n",
       "0  672141312.0  688096128.0\n",
       "1  672110080.0  688042176.0\n",
       "2  672015296.0  687880448.0\n",
       "3  671746624.0  687448256.0\n",
       "4  671084864.0  686437440.0"
      ]
     },
     "execution_count": 26,
     "metadata": {},
     "output_type": "execute_result"
    }
   ],
   "source": [
    "kayipVerisi.head()"
   ]
  },
  {
   "cell_type": "code",
   "execution_count": 27,
   "metadata": {},
   "outputs": [
    {
     "data": {
      "text/plain": [
       "<AxesSubplot:>"
      ]
     },
     "execution_count": 27,
     "metadata": {},
     "output_type": "execute_result"
    },
    {
     "data": {
      "image/png": "[encoded data removed]",
      "text/plain": [
       "<Figure size 432x288 with 1 Axes>"
      ]
     },
     "metadata": {
      "needs_background": "light"
     },
     "output_type": "display_data"
    }
   ],
   "source": [
    "kayipVerisi.plot()"
   ]
  },
  {
   "cell_type": "code",
   "execution_count": 28,
   "metadata": {},
   "outputs": [],
   "source": [
    "tahminDizisi = model.predict(x_test)"
   ]
  },
  {
   "cell_type": "code",
   "execution_count": 29,
   "metadata": {},
   "outputs": [
    {
     "data": {
      "text/plain": [
       "array([[20889.066 ],\n",
       "       [22628.781 ],\n",
       "       [24087.414 ],\n",
       "       ...,\n",
       "       [24889.031 ],\n",
       "       [ 8065.5083],\n",
       "       [23753.314 ]], dtype=float32)"
      ]
     },
     "execution_count": 29,
     "metadata": {},
     "output_type": "execute_result"
    }
   ],
   "source": [
    "tahminDizisi"
   ]
  },
  {
   "cell_type": "code",
   "execution_count": 30,
   "metadata": {},
   "outputs": [
    {
     "data": {
      "text/plain": [
       "3454.215195645789"
      ]
     },
     "execution_count": 30,
     "metadata": {},
     "output_type": "execute_result"
    }
   ],
   "source": [
    "mean_absolute_error(y_test,tahminDizisi)"
   ]
  },
  {
   "cell_type": "code",
   "execution_count": 31,
   "metadata": {},
   "outputs": [
    {
     "data": {
      "text/plain": [
       "[<matplotlib.lines.Line2D at 0x1351e8361c0>]"
      ]
     },
     "execution_count": 31,
     "metadata": {},
     "output_type": "execute_result"
    },
    {
     "data": {
      "image/png": "[encoded data removed]",
      "text/plain": [
       "<Figure size 432x288 with 1 Axes>"
      ]
     },
     "metadata": {
      "needs_background": "light"
     },
     "output_type": "display_data"
    }
   ],
   "source": [
    "plt.scatter(y_test,tahminDizisi)\n",
    "plt.plot(y_test,y_test,\"g-*\")"
   ]
  },
  {
   "cell_type": "code",
   "execution_count": 32,
   "metadata": {},
   "outputs": [
    {
     "data": {
      "text/plain": [
       "year           2020.0\n",
       "price         65980.0\n",
       "mileage        3999.0\n",
       "tax             145.0\n",
       "mpg              28.0\n",
       "engineSize        4.0\n",
       "Name: 3191, dtype: float64"
      ]
     },
     "execution_count": 32,
     "metadata": {},
     "output_type": "execute_result"
    }
   ],
   "source": [
    "dataFrame.iloc[2]"
   ]
  },
  {
   "cell_type": "code",
   "execution_count": 33,
   "metadata": {},
   "outputs": [],
   "source": [
    "yeniArabaSeries = dataFrame.drop(\"price\",axis = 1).iloc[2]"
   ]
  },
  {
   "cell_type": "code",
   "execution_count": 35,
   "metadata": {},
   "outputs": [],
   "source": [
    "yeniArabaSeries = scaler.transform(yeniArabaSeries.values.reshape(-1,5))"
   ]
  },
  {
   "cell_type": "code",
   "execution_count": 36,
   "metadata": {},
   "outputs": [
    {
     "data": {
      "text/plain": [
       "array([[60122.12]], dtype=float32)"
      ]
     },
     "execution_count": 36,
     "metadata": {},
     "output_type": "execute_result"
    }
   ],
   "source": [
    "model.predict(yeniArabaSeries)"
   ]
  },
  {
   "cell_type": "code",
   "execution_count": null,
   "metadata": {},
   "outputs": [],
   "source": []
  }
 ],
 "metadata": {
  "kernelspec": {
   "display_name": "Python 3",
   "language": "python",
   "name": "python3"
  },
  "language_info": {
   "codemirror_mode": {
    "name": "ipython",
    "version": 3
   },
   "file_extension": ".py",
   "mimetype": "text/x-python",
   "name": "python",
   "nbconvert_exporter": "python",
   "pygments_lexer": "ipython3",
   "version": "3.8.5"
  }
 },
 "nbformat": 4,
 "nbformat_minor": 4
}
